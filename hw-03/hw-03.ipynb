{
 "metadata": {
  "language_info": {
   "codemirror_mode": {
    "name": "ipython",
    "version": 3
   },
   "file_extension": ".py",
   "mimetype": "text/x-python",
   "name": "python",
   "nbconvert_exporter": "python",
   "pygments_lexer": "ipython3",
   "version": "3.8.5-final"
  },
  "orig_nbformat": 2,
  "kernelspec": {
   "name": "python3",
   "display_name": "Python 3.8.5 64-bit",
   "metadata": {
    "interpreter": {
     "hash": "31f2aee4e71d21fbe5cf8b01ff0e069b9275f58929596ceb00d14d90e3e16cd6"
    }
   }
  }
 },
 "nbformat": 4,
 "nbformat_minor": 2,
 "cells": [
  {
   "source": [
    "# Assignment 3\n",
    "## I\n",
    "### Part A \n",
    "The most thorough way to make sure there is no multicollinearity is to manually go through and test each input against each other."
   ],
   "cell_type": "markdown",
   "metadata": {}
  },
  {
   "cell_type": "code",
   "execution_count": 8,
   "metadata": {},
   "outputs": [
    {
     "output_type": "stream",
     "name": "stdout",
     "text": [
      "        name  votes     ba  hr  rbi\n0       Sosa    438  0.308  66  158\n1    McGwire    272  0.299  70  147\n2       Alou    215  0.312  38  124\n3     Vaughn    185  0.272  50  119\n4     Biggio    163  0.325  20   88\n5  Galarraga    147  0.305  44  121\n6      Bonds     66  0.303  37  122\n7      Jones     56  0.313  34  107\n"
     ]
    }
   ],
   "source": [
    "import statsmodels.api as sm\n",
    "import pandas as pd\n",
    "\n",
    "raw_data = {\n",
    "    'name': [\"Sosa\", \"McGwire\", \"Alou\", \"Vaughn\", \"Biggio\", \"Galarraga\", \"Bonds\", \"Jones\"],\n",
    "    'votes': [438, 272, 215, 185, 163, 147, 66, 56],\n",
    "    'ba': [.308, .299, .312, .272, .325, .305, .303, .313],\n",
    "    'hr': [66, 70, 38, 50, 20, 44, 37, 34],\n",
    "    'rbi': [158, 147, 124, 119, 88, 121, 122, 107]\n",
    "}\n",
    "df = pd.DataFrame(data=raw_data)\n",
    "\n",
    "reg = sm.OLS()\n"
   ]
  }
 ]
}