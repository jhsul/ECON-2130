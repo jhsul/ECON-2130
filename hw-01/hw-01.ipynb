{
 "metadata": {
  "language_info": {
   "codemirror_mode": {
    "name": "ipython",
    "version": 3
   },
   "file_extension": ".py",
   "mimetype": "text/x-python",
   "name": "python",
   "nbconvert_exporter": "python",
   "pygments_lexer": "ipython3",
   "version": "3.8.5-final"
  },
  "orig_nbformat": 2,
  "kernelspec": {
   "name": "python3",
   "display_name": "Python 3.8.5 64-bit",
   "metadata": {
    "interpreter": {
     "hash": "31f2aee4e71d21fbe5cf8b01ff0e069b9275f58929596ceb00d14d90e3e16cd6"
    }
   }
  }
 },
 "nbformat": 4,
 "nbformat_minor": 2,
 "cells": [
  {
   "cell_type": "code",
   "execution_count": 1,
   "metadata": {},
   "outputs": [],
   "source": [
    "import pandas as pd\n",
    "import nbconvert\n",
    "\n",
    "import statsmodels.api as sm\n",
    "from IPython.display import display"
   ]
  },
  {
   "source": [
    "# Homework 1\n",
    "## Step 1: Review the Literature and Develop the Theoretical Model\n",
    "\n",
    "### A: Marginal Propensity to Consume\n",
    "\n",
    "- $ MPC = \\frac{dC}{dY} $\n",
    "- $ C = consumption $\n",
    "- $ Y = income $\n",
    "\n",
    "### B: Two Academic Articles that include MPC\n",
    "- Stigler, George J. “The Economics of Minimum Wage Legislation.” The American Economic Review, vol. 36, no. 3, 1946, pp. 358–365. JSTOR, www.jstor.org/stable/1801842. Accessed 2 Feb. 2021.\n",
    "- Ronn, Ehud I. “Nonadditive Preferences and the Marginal Propensity to Consume.” The American Economic Review, vol. 78, no. 1, 1988, pp. 216–223. JSTOR, www.jstor.org/stable/1814709. Accessed 2 Feb. 2021.\n",
    "\n",
    "## Step 2: Specify the Model: Select the Independent Variables and the Functional Form\n",
    "\n",
    "$$ CON = \\beta_0 + \\beta_1*PYD + \\beta_2*AAA $$\n",
    "\n",
    "\n",
    "## Step 3: Hypothesize the Expected Signs of the Coefficients\n",
    "\n",
    "- $\\beta_0 > 0$ because even at 0 income and 0 interest people still need to spend on necessities (food, water, shelter, etc)\n",
    "- $\\beta_1 > 0$ because people will spend more when they have a higher income\n",
    "- $\\beta_2 < 0$ because higher interest rates encourage saving and discourage spending\n",
    "\n",
    "\n",
    "## Step 4: Collect the Data. Inspect and Clean the Data"
   ],
   "cell_type": "markdown",
   "metadata": {}
  },
  {
   "cell_type": "code",
   "execution_count": 2,
   "metadata": {},
   "outputs": [
    {
     "output_type": "stream",
     "name": "stdout",
     "text": [
      "All data:\n"
     ]
    },
    {
     "output_type": "display_data",
     "data": {
      "text/plain": "    year      CON      PYD    AAA\n0   1945   1061.5   1383.1   0.32\n1   1946   1193.6   1368.6  -5.97\n2   1947   1216.4   1312.9 -11.79\n3   1948   1243.9   1382.1  -4.88\n4   1949   1278.5   1393.3   3.66\n..   ...      ...      ...    ...\n65  2010  10036.3  11055.1   3.34\n66  2011  10263.5  11331.2   1.44\n67  2012  10449.7  11676.2   1.57\n68  2013  10699.7  11650.8   2.74\n69  2014  10969.0  11939.4   2.56\n\n[70 rows x 4 columns]",
      "text/html": "<div>\n<style scoped>\n    .dataframe tbody tr th:only-of-type {\n        vertical-align: middle;\n    }\n\n    .dataframe tbody tr th {\n        vertical-align: top;\n    }\n\n    .dataframe thead th {\n        text-align: right;\n    }\n</style>\n<table border=\"1\" class=\"dataframe\">\n  <thead>\n    <tr style=\"text-align: right;\">\n      <th></th>\n      <th>year</th>\n      <th>CON</th>\n      <th>PYD</th>\n      <th>AAA</th>\n    </tr>\n  </thead>\n  <tbody>\n    <tr>\n      <th>0</th>\n      <td>1945</td>\n      <td>1061.5</td>\n      <td>1383.1</td>\n      <td>0.32</td>\n    </tr>\n    <tr>\n      <th>1</th>\n      <td>1946</td>\n      <td>1193.6</td>\n      <td>1368.6</td>\n      <td>-5.97</td>\n    </tr>\n    <tr>\n      <th>2</th>\n      <td>1947</td>\n      <td>1216.4</td>\n      <td>1312.9</td>\n      <td>-11.79</td>\n    </tr>\n    <tr>\n      <th>3</th>\n      <td>1948</td>\n      <td>1243.9</td>\n      <td>1382.1</td>\n      <td>-4.88</td>\n    </tr>\n    <tr>\n      <th>4</th>\n      <td>1949</td>\n      <td>1278.5</td>\n      <td>1393.3</td>\n      <td>3.66</td>\n    </tr>\n    <tr>\n      <th>...</th>\n      <td>...</td>\n      <td>...</td>\n      <td>...</td>\n      <td>...</td>\n    </tr>\n    <tr>\n      <th>65</th>\n      <td>2010</td>\n      <td>10036.3</td>\n      <td>11055.1</td>\n      <td>3.34</td>\n    </tr>\n    <tr>\n      <th>66</th>\n      <td>2011</td>\n      <td>10263.5</td>\n      <td>11331.2</td>\n      <td>1.44</td>\n    </tr>\n    <tr>\n      <th>67</th>\n      <td>2012</td>\n      <td>10449.7</td>\n      <td>11676.2</td>\n      <td>1.57</td>\n    </tr>\n    <tr>\n      <th>68</th>\n      <td>2013</td>\n      <td>10699.7</td>\n      <td>11650.8</td>\n      <td>2.74</td>\n    </tr>\n    <tr>\n      <th>69</th>\n      <td>2014</td>\n      <td>10969.0</td>\n      <td>11939.4</td>\n      <td>2.56</td>\n    </tr>\n  </tbody>\n</table>\n<p>70 rows × 4 columns</p>\n</div>"
     },
     "metadata": {}
    },
    {
     "output_type": "stream",
     "name": "stdout",
     "text": [
      "Summary of year:\n----------------\ncount      70.000000\nmean     1979.500000\nstd        20.351085\nmin      1945.000000\n25%      1962.250000\n50%      1979.500000\n75%      1996.750000\nmax      2014.000000\nName: year, dtype: float64\n\nSummary of CON:\n----------------\ncount       70.000000\nmean      4808.328574\nstd       3074.049797\nmin       1061.500000\n25%       2046.250000\n50%       3997.800050\n75%       6946.324950\nmax      10969.000000\nName: CON, dtype: float64\n\nSummary of PYD:\n----------------\ncount       70.000000\nmean      5376.949986\nstd       3321.814939\nmin       1312.900000\n25%       2350.799925\n50%       4574.149900\n75%       7682.499875\nmax      11939.400000\nName: PYD, dtype: float64\n\nSummary of AAA:\n----------------\ncount    70.000000\nmean      2.608857\nstd       3.268162\nmin     -11.790000\n25%       1.540000\n50%       2.920000\n75%       4.415000\nmax       8.840000\nName: AAA, dtype: float64\n\n"
     ]
    }
   ],
   "source": [
    "df = pd.read_csv(\"lab3.txt\", sep=\"\\t\")\n",
    "\n",
    "print(\"All data:\")\n",
    "display(df)\n",
    "\n",
    "for col in df:\n",
    "    print(f\"Summary of {col}:\")\n",
    "    print(\"----------------\")\n",
    "    print(df[col].describe())\n",
    "    print()"
   ]
  },
  {
   "source": [
    "## Step 5: Estimate and Evaluate the Equation"
   ],
   "cell_type": "markdown",
   "metadata": {}
  },
  {
   "cell_type": "code",
   "execution_count": 3,
   "metadata": {},
   "outputs": [
    {
     "output_type": "stream",
     "name": "stdout",
     "text": [
      "                            OLS Regression Results                            \n==============================================================================\nDep. Variable:                    CON   R-squared:                       0.999\nModel:                            OLS   Adj. R-squared:                  0.999\nMethod:                 Least Squares   F-statistic:                 3.623e+04\nDate:                Fri, 05 Feb 2021   Prob (F-statistic):          2.22e-102\nTime:                        10:11:55   Log-Likelihood:                -416.43\nNo. Observations:                  70   AIC:                             838.9\nDf Residuals:                      67   BIC:                             845.6\nDf Model:                           2                                         \nCovariance Type:            nonrobust                                         \n==============================================================================\n                 coef    std err          t      P>|t|      [0.025      0.975]\n------------------------------------------------------------------------------\nconst       -156.3649     21.858     -7.154      0.000    -199.994    -112.736\nPYD            0.9288      0.004    253.180      0.000       0.922       0.936\nAAA          -11.3581      3.729     -3.046      0.003     -18.801      -3.915\n==============================================================================\nOmnibus:                        0.005   Durbin-Watson:                   0.553\nProb(Omnibus):                  0.997   Jarque-Bera (JB):                0.109\nSkew:                           0.019   Prob(JB):                        0.947\nKurtosis:                       2.811   Cond. No.                     1.22e+04\n==============================================================================\n\nNotes:\n[1] Standard Errors assume that the covariance matrix of the errors is correctly specified.\n[2] The condition number is large, 1.22e+04. This might indicate that there are\nstrong multicollinearity or other numerical problems.\n"
     ]
    }
   ],
   "source": [
    "x = df[[\"PYD\", \"AAA\"]]\n",
    "y = df[\"CON\"]\n",
    "\n",
    "x = sm.add_constant(x) # Include intercept term\n",
    "\n",
    "reg = sm.OLS(y, x).fit()\n",
    "print(reg.summary())\n"
   ]
  },
  {
   "source": [
    "### A: Signs\n",
    "I was correct for $\\beta_1$ and $\\beta_2$, but I incorrectly expected the intercept term to be positive.\n",
    "\n",
    "### B: $R^2$\n",
    "With this regression model, $R^2 = 0.999$. This means that out of all the data, 0.999 of the variation in output (CON) is tied to variation in the inputs (PYD and AAA)\n",
    "\n",
    "### C: MPC\n",
    "Using the previous model of MPC, the value should be the coefficient of PYD in the linear regression (since that's the derivative of CON wrt PYD). This leaves us with\n",
    "$$ MPC = 0.9288 $$\n",
    "\n",
    "### D: Consumption Changed based on Interest\n",
    "The coefficient for AAA is -11.3581. In other words, increasing interest rates by 0.03 should change CON by $-11.3581*0.03 = -0.34$\n",
    "\n",
    "### E: Conclusion\n",
    "I think the linear regression is accurate. There weren't any errors in data collection and the model does not look incorrect to me."
   ],
   "cell_type": "markdown",
   "metadata": {}
  }
 ]
}